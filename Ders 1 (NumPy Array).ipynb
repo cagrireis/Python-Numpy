{
 "cells": [
  {
   "cell_type": "code",
   "execution_count": 2,
   "id": "eb83fcde",
   "metadata": {},
   "outputs": [],
   "source": [
    "import numpy as np #bu şekilde çağırırız."
   ]
  },
  {
   "cell_type": "markdown",
   "id": "0eddf3c1",
   "metadata": {},
   "source": [
    "# NUMPY ARRAY"
   ]
  },
  {
   "cell_type": "code",
   "execution_count": 3,
   "id": "08d59445",
   "metadata": {},
   "outputs": [],
   "source": [
    "# python listlerine benziyor"
   ]
  },
  {
   "cell_type": "code",
   "execution_count": 4,
   "id": "cae117a9",
   "metadata": {},
   "outputs": [],
   "source": [
    "# Ama listlerin aksine tek tipte eleman taşıyabilir elemanların hepsi tek tip olmalı."
   ]
  },
  {
   "cell_type": "markdown",
   "id": "13c6c171",
   "metadata": {},
   "source": [
    "## LİSTLERDEN ARRAY YARATMAK"
   ]
  },
  {
   "cell_type": "code",
   "execution_count": 5,
   "id": "d99ffc5e",
   "metadata": {},
   "outputs": [],
   "source": [
    "x = np.array([1,2,3,4])"
   ]
  },
  {
   "cell_type": "code",
   "execution_count": 6,
   "id": "91816b27",
   "metadata": {},
   "outputs": [
    {
     "data": {
      "text/plain": [
       "array([1, 2, 3, 4])"
      ]
     },
     "execution_count": 6,
     "metadata": {},
     "output_type": "execute_result"
    }
   ],
   "source": [
    "x"
   ]
  },
  {
   "cell_type": "code",
   "execution_count": 7,
   "id": "a0183010",
   "metadata": {},
   "outputs": [
    {
     "data": {
      "text/plain": [
       "numpy.ndarray"
      ]
     },
     "execution_count": 7,
     "metadata": {},
     "output_type": "execute_result"
    }
   ],
   "source": [
    "type(x)"
   ]
  },
  {
   "cell_type": "code",
   "execution_count": 8,
   "id": "011b3362",
   "metadata": {},
   "outputs": [],
   "source": [
    "y = np.array([\"a\",\"b\",\"c\"])"
   ]
  },
  {
   "cell_type": "code",
   "execution_count": 9,
   "id": "8942294d",
   "metadata": {},
   "outputs": [
    {
     "data": {
      "text/plain": [
       "array(['a', 'b', 'c'], dtype='<U1')"
      ]
     },
     "execution_count": 9,
     "metadata": {},
     "output_type": "execute_result"
    }
   ],
   "source": [
    "y"
   ]
  },
  {
   "cell_type": "code",
   "execution_count": 10,
   "id": "c38e00ed",
   "metadata": {},
   "outputs": [
    {
     "data": {
      "text/plain": [
       "numpy.ndarray"
      ]
     },
     "execution_count": 10,
     "metadata": {},
     "output_type": "execute_result"
    }
   ],
   "source": [
    "type(y)"
   ]
  },
  {
   "cell_type": "code",
   "execution_count": 11,
   "id": "ebb27c00",
   "metadata": {},
   "outputs": [],
   "source": [
    "# Eğer hem string hem integer kullanılırsa integer olanlar da string'e dönüşecektir."
   ]
  },
  {
   "cell_type": "code",
   "execution_count": 12,
   "id": "5ecaa79e",
   "metadata": {},
   "outputs": [],
   "source": [
    "c = np.array([\"a\",1,2,3])"
   ]
  },
  {
   "cell_type": "code",
   "execution_count": 14,
   "id": "be4182ef",
   "metadata": {},
   "outputs": [
    {
     "data": {
      "text/plain": [
       "array(['a', '1', '2', '3'], dtype='<U11')"
      ]
     },
     "execution_count": 14,
     "metadata": {},
     "output_type": "execute_result"
    }
   ],
   "source": [
    "c # hepsi string oldu."
   ]
  },
  {
   "cell_type": "code",
   "execution_count": 15,
   "id": "1d8bc06a",
   "metadata": {},
   "outputs": [],
   "source": [
    "#eğer float ile birlikte integer kullanılırsa ortaya hepsi float'a dönüştürülmüş olarak gelirler bunun nedeni float daha geneldir."
   ]
  },
  {
   "cell_type": "code",
   "execution_count": 18,
   "id": "a17bdf4d",
   "metadata": {},
   "outputs": [],
   "source": [
    "d = np.array([1,2.2,3,4,5,6,7])"
   ]
  },
  {
   "cell_type": "code",
   "execution_count": 19,
   "id": "491ad799",
   "metadata": {},
   "outputs": [
    {
     "data": {
      "text/plain": [
       "array([1. , 2.2, 3. , 4. , 5. , 6. , 7. ])"
      ]
     },
     "execution_count": 19,
     "metadata": {},
     "output_type": "execute_result"
    }
   ],
   "source": [
    "d"
   ]
  },
  {
   "cell_type": "code",
   "execution_count": 20,
   "id": "c721a4d7",
   "metadata": {},
   "outputs": [
    {
     "data": {
      "text/plain": [
       "numpy.ndarray"
      ]
     },
     "execution_count": 20,
     "metadata": {},
     "output_type": "execute_result"
    }
   ],
   "source": [
    "type(d)"
   ]
  },
  {
   "cell_type": "code",
   "execution_count": 24,
   "id": "c7d76203",
   "metadata": {},
   "outputs": [],
   "source": [
    "# eğer hem string hem float hem integer var ise hepsi stringer olarak ifade edilir."
   ]
  },
  {
   "cell_type": "code",
   "execution_count": 25,
   "id": "276a1eb8",
   "metadata": {},
   "outputs": [],
   "source": [
    "z = np.array([1,2,3,4,5.67,6.89,\"a\"])"
   ]
  },
  {
   "cell_type": "code",
   "execution_count": 26,
   "id": "e980bd5c",
   "metadata": {},
   "outputs": [
    {
     "data": {
      "text/plain": [
       "array(['1', '2', '3', '4', '5.67', '6.89', 'a'], dtype='<U32')"
      ]
     },
     "execution_count": 26,
     "metadata": {},
     "output_type": "execute_result"
    }
   ],
   "source": [
    "z"
   ]
  },
  {
   "cell_type": "code",
   "execution_count": 27,
   "id": "267ff847",
   "metadata": {},
   "outputs": [
    {
     "data": {
      "text/plain": [
       "numpy.ndarray"
      ]
     },
     "execution_count": 27,
     "metadata": {},
     "output_type": "execute_result"
    }
   ],
   "source": [
    "type(z)"
   ]
  },
  {
   "cell_type": "code",
   "execution_count": null,
   "id": "a2e7d7d4",
   "metadata": {},
   "outputs": [],
   "source": []
  }
 ],
 "metadata": {
  "kernelspec": {
   "display_name": "Python 3 (ipykernel)",
   "language": "python",
   "name": "python3"
  },
  "language_info": {
   "codemirror_mode": {
    "name": "ipython",
    "version": 3
   },
   "file_extension": ".py",
   "mimetype": "text/x-python",
   "name": "python",
   "nbconvert_exporter": "python",
   "pygments_lexer": "ipython3",
   "version": "3.9.12"
  }
 },
 "nbformat": 4,
 "nbformat_minor": 5
}
