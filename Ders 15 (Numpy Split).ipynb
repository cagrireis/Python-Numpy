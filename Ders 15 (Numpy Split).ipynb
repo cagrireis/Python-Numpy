{
 "cells": [
  {
   "cell_type": "code",
   "execution_count": 1,
   "id": "b81340c0",
   "metadata": {},
   "outputs": [],
   "source": [
    "import numpy as np"
   ]
  },
  {
   "cell_type": "markdown",
   "id": "e805088b",
   "metadata": {},
   "source": [
    "#  Splitting"
   ]
  },
  {
   "cell_type": "code",
   "execution_count": 2,
   "id": "f026d14d",
   "metadata": {},
   "outputs": [],
   "source": [
    "l = [10, 20, 30, 40, 50, 60, 70, 80]"
   ]
  },
  {
   "cell_type": "code",
   "execution_count": 3,
   "id": "2ed7c408",
   "metadata": {},
   "outputs": [
    {
     "data": {
      "text/plain": [
       "[10, 20, 30, 40, 50, 60, 70, 80]"
      ]
     },
     "execution_count": 3,
     "metadata": {},
     "output_type": "execute_result"
    }
   ],
   "source": [
    "l"
   ]
  },
  {
   "cell_type": "code",
   "execution_count": 9,
   "id": "359d6335",
   "metadata": {},
   "outputs": [
    {
     "data": {
      "text/plain": [
       "[array([10, 20]), array([30, 40, 50, 60]), array([70, 80])]"
      ]
     },
     "execution_count": 9,
     "metadata": {},
     "output_type": "execute_result"
    }
   ],
   "source": [
    "np.split(l, [2,6]) # aynı iekilde çalışır normal python ile sadewce böleceğimiz cism iilk yazıp böleceğimiz yerleri tupel veya list içöinbde veririrz."
   ]
  },
  {
   "cell_type": "code",
   "execution_count": 10,
   "id": "affce2d0",
   "metadata": {},
   "outputs": [
    {
     "data": {
      "text/plain": [
       "[array([10, 20]), array([30, 40]), array([50, 60, 70, 80])]"
      ]
     },
     "execution_count": 10,
     "metadata": {},
     "output_type": "execute_result"
    }
   ],
   "source": [
    "np.split(l,[2,4])"
   ]
  },
  {
   "cell_type": "code",
   "execution_count": 11,
   "id": "55e61551",
   "metadata": {},
   "outputs": [],
   "source": [
    "#bu bölme bir array'de de yapılabilirdi."
   ]
  },
  {
   "cell_type": "code",
   "execution_count": 13,
   "id": "bfdb486c",
   "metadata": {},
   "outputs": [],
   "source": [
    "l = np.array(l)"
   ]
  },
  {
   "cell_type": "code",
   "execution_count": 15,
   "id": "f50a52e3",
   "metadata": {},
   "outputs": [
    {
     "data": {
      "text/plain": [
       "array([10, 20, 30, 40, 50, 60, 70, 80])"
      ]
     },
     "execution_count": 15,
     "metadata": {},
     "output_type": "execute_result"
    }
   ],
   "source": [
    "l"
   ]
  },
  {
   "cell_type": "code",
   "execution_count": 16,
   "id": "e619783e",
   "metadata": {},
   "outputs": [
    {
     "data": {
      "text/plain": [
       "[array([10, 20, 30, 40]), array([50, 60]), array([70, 80])]"
      ]
     },
     "execution_count": 16,
     "metadata": {},
     "output_type": "execute_result"
    }
   ],
   "source": [
    "np.split(l , [4,6])"
   ]
  },
  {
   "cell_type": "markdown",
   "id": "69c4cdc5",
   "metadata": {},
   "source": [
    "### Split sonucunu birden çok değişkene eşitleme"
   ]
  },
  {
   "cell_type": "code",
   "execution_count": 17,
   "id": "13eba1da",
   "metadata": {},
   "outputs": [],
   "source": [
    "x, y, z = np.split(l, [2, 6])"
   ]
  },
  {
   "cell_type": "code",
   "execution_count": 18,
   "id": "81c3c102",
   "metadata": {},
   "outputs": [
    {
     "name": "stdout",
     "output_type": "stream",
     "text": [
      "[10 20] [30 40 50 60] [70 80]\n"
     ]
    }
   ],
   "source": [
    "print(x, y, z)"
   ]
  },
  {
   "cell_type": "markdown",
   "id": "2d374801",
   "metadata": {},
   "source": [
    "### Vsplit"
   ]
  },
  {
   "cell_type": "code",
   "execution_count": 23,
   "id": "492f5d74",
   "metadata": {},
   "outputs": [],
   "source": [
    "a = np.arange(20).reshape(2,10)"
   ]
  },
  {
   "cell_type": "code",
   "execution_count": 24,
   "id": "d643757a",
   "metadata": {},
   "outputs": [
    {
     "data": {
      "text/plain": [
       "array([[ 0,  1,  2,  3,  4,  5,  6,  7,  8,  9],\n",
       "       [10, 11, 12, 13, 14, 15, 16, 17, 18, 19]])"
      ]
     },
     "execution_count": 24,
     "metadata": {},
     "output_type": "execute_result"
    }
   ],
   "source": [
    "a"
   ]
  },
  {
   "cell_type": "code",
   "execution_count": 29,
   "id": "4a3d13e8",
   "metadata": {},
   "outputs": [
    {
     "data": {
      "text/plain": [
       "[array([[0, 1, 2, 3, 4, 5, 6, 7, 8, 9]]),\n",
       " array([[10, 11, 12, 13, 14, 15, 16, 17, 18, 19]])]"
      ]
     },
     "execution_count": 29,
     "metadata": {},
     "output_type": "execute_result"
    }
   ],
   "source": [
    "np.vsplit(a, [1]) #vsplit vertical split demektir."
   ]
  },
  {
   "cell_type": "code",
   "execution_count": 30,
   "id": "dc670be7",
   "metadata": {},
   "outputs": [
    {
     "data": {
      "text/plain": [
       "array([[0, 1, 2, 3, 4, 5, 6, 7, 8, 9]])"
      ]
     },
     "execution_count": 30,
     "metadata": {},
     "output_type": "execute_result"
    }
   ],
   "source": [
    "np.vsplit(a, [1])[0]"
   ]
  },
  {
   "cell_type": "markdown",
   "id": "1374bd5e",
   "metadata": {},
   "source": [
    "### Hsplit"
   ]
  },
  {
   "cell_type": "code",
   "execution_count": 31,
   "id": "92a9844f",
   "metadata": {},
   "outputs": [],
   "source": [
    "a = np.arange(20).reshape(2,10)"
   ]
  },
  {
   "cell_type": "code",
   "execution_count": 32,
   "id": "2b0bf855",
   "metadata": {},
   "outputs": [
    {
     "data": {
      "text/plain": [
       "array([[ 0,  1,  2,  3,  4,  5,  6,  7,  8,  9],\n",
       "       [10, 11, 12, 13, 14, 15, 16, 17, 18, 19]])"
      ]
     },
     "execution_count": 32,
     "metadata": {},
     "output_type": "execute_result"
    }
   ],
   "source": [
    "a"
   ]
  },
  {
   "cell_type": "code",
   "execution_count": 33,
   "id": "d1ecd882",
   "metadata": {},
   "outputs": [
    {
     "data": {
      "text/plain": [
       "[array([[ 0,  1],\n",
       "        [10, 11]]),\n",
       " array([[ 2,  3,  4,  5,  6,  7,  8,  9],\n",
       "        [12, 13, 14, 15, 16, 17, 18, 19]])]"
      ]
     },
     "execution_count": 33,
     "metadata": {},
     "output_type": "execute_result"
    }
   ],
   "source": [
    "np.hsplit(a, [2])"
   ]
  },
  {
   "cell_type": "code",
   "execution_count": 34,
   "id": "2cc1e9d9",
   "metadata": {},
   "outputs": [
    {
     "data": {
      "text/plain": [
       "[array([[ 0,  1,  2],\n",
       "        [10, 11, 12]]),\n",
       " array([[ 3,  4,  5,  6,  7,  8,  9],\n",
       "        [13, 14, 15, 16, 17, 18, 19]])]"
      ]
     },
     "execution_count": 34,
     "metadata": {},
     "output_type": "execute_result"
    }
   ],
   "source": [
    "np.hsplit(a, [3])"
   ]
  },
  {
   "cell_type": "code",
   "execution_count": 35,
   "id": "641ba964",
   "metadata": {},
   "outputs": [
    {
     "data": {
      "text/plain": [
       "[array([[ 0,  1,  2,  3],\n",
       "        [10, 11, 12, 13]]),\n",
       " array([[ 4,  5,  6,  7,  8,  9],\n",
       "        [14, 15, 16, 17, 18, 19]])]"
      ]
     },
     "execution_count": 35,
     "metadata": {},
     "output_type": "execute_result"
    }
   ],
   "source": [
    "np.hsplit(a, [4])"
   ]
  },
  {
   "cell_type": "code",
   "execution_count": 36,
   "id": "2bccee06",
   "metadata": {},
   "outputs": [],
   "source": [
    "#dikey kesim bu da yazdığımız yere çzigi atıyoruz gibi düşün."
   ]
  },
  {
   "cell_type": "code",
   "execution_count": 39,
   "id": "3673c2f3",
   "metadata": {},
   "outputs": [],
   "source": [
    "x, y = np.hsplit(a, [3])"
   ]
  },
  {
   "cell_type": "code",
   "execution_count": 40,
   "id": "e9b979f1",
   "metadata": {},
   "outputs": [
    {
     "name": "stdout",
     "output_type": "stream",
     "text": [
      "[[ 0  1  2]\n",
      " [10 11 12]] [[ 3  4  5  6  7  8  9]\n",
      " [13 14 15 16 17 18 19]]\n"
     ]
    }
   ],
   "source": [
    "print(x, y)"
   ]
  },
  {
   "cell_type": "code",
   "execution_count": null,
   "id": "eb6f2d28",
   "metadata": {},
   "outputs": [],
   "source": []
  }
 ],
 "metadata": {
  "kernelspec": {
   "display_name": "Python 3 (ipykernel)",
   "language": "python",
   "name": "python3"
  },
  "language_info": {
   "codemirror_mode": {
    "name": "ipython",
    "version": 3
   },
   "file_extension": ".py",
   "mimetype": "text/x-python",
   "name": "python",
   "nbconvert_exporter": "python",
   "pygments_lexer": "ipython3",
   "version": "3.9.12"
  }
 },
 "nbformat": 4,
 "nbformat_minor": 5
}
