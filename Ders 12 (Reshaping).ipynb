{
 "cells": [
  {
   "cell_type": "code",
   "execution_count": 1,
   "id": "3e99f697",
   "metadata": {},
   "outputs": [],
   "source": [
    "import numpy as np"
   ]
  },
  {
   "cell_type": "markdown",
   "id": "7faf0567",
   "metadata": {},
   "source": [
    "# RESHAPİNG\n",
    "\n",
    "* Önemli kısım reshape yapacağımız elemanın yapıldıktan sonraki eleman ile aynı uzunlukta olması yan isizelarının aynı olamsı gerek."
   ]
  },
  {
   "cell_type": "code",
   "execution_count": 2,
   "id": "5caf5c9e",
   "metadata": {},
   "outputs": [],
   "source": [
    "a = np.arange(1,11)"
   ]
  },
  {
   "cell_type": "code",
   "execution_count": 3,
   "id": "c09f56a4",
   "metadata": {},
   "outputs": [
    {
     "data": {
      "text/plain": [
       "array([ 1,  2,  3,  4,  5,  6,  7,  8,  9, 10])"
      ]
     },
     "execution_count": 3,
     "metadata": {},
     "output_type": "execute_result"
    }
   ],
   "source": [
    "a"
   ]
  },
  {
   "cell_type": "code",
   "execution_count": 4,
   "id": "3f0e7a0b",
   "metadata": {},
   "outputs": [
    {
     "data": {
      "text/plain": [
       "1"
      ]
     },
     "execution_count": 4,
     "metadata": {},
     "output_type": "execute_result"
    }
   ],
   "source": [
    "a.ndim"
   ]
  },
  {
   "cell_type": "code",
   "execution_count": 5,
   "id": "07d16896",
   "metadata": {},
   "outputs": [
    {
     "data": {
      "text/plain": [
       "10"
      ]
     },
     "execution_count": 5,
     "metadata": {},
     "output_type": "execute_result"
    }
   ],
   "source": [
    "a.size"
   ]
  },
  {
   "cell_type": "code",
   "execution_count": 10,
   "id": "a71defb2",
   "metadata": {},
   "outputs": [
    {
     "data": {
      "text/plain": [
       "array([[ 1,  2,  3,  4,  5],\n",
       "       [ 6,  7,  8,  9, 10]])"
      ]
     },
     "execution_count": 10,
     "metadata": {},
     "output_type": "execute_result"
    }
   ],
   "source": [
    "a.reshape(2,5) # bunu 2 ye 5 lik şekilde ifade et demek bu 2* 5 = 10 10 elemanlı. Ayrıca bunu yapınca a güncellenmiyor."
   ]
  },
  {
   "cell_type": "code",
   "execution_count": 11,
   "id": "d1cafab4",
   "metadata": {},
   "outputs": [
    {
     "ename": "ValueError",
     "evalue": "cannot reshape array of size 10 into shape (3,5)",
     "output_type": "error",
     "traceback": [
      "\u001b[1;31m---------------------------------------------------------------------------\u001b[0m",
      "\u001b[1;31mValueError\u001b[0m                                Traceback (most recent call last)",
      "Input \u001b[1;32mIn [11]\u001b[0m, in \u001b[0;36m<cell line: 1>\u001b[1;34m()\u001b[0m\n\u001b[1;32m----> 1\u001b[0m \u001b[43ma\u001b[49m\u001b[38;5;241;43m.\u001b[39;49m\u001b[43mreshape\u001b[49m\u001b[43m(\u001b[49m\u001b[38;5;241;43m3\u001b[39;49m\u001b[43m,\u001b[49m\u001b[38;5;241;43m5\u001b[39;49m\u001b[43m)\u001b[49m\n",
      "\u001b[1;31mValueError\u001b[0m: cannot reshape array of size 10 into shape (3,5)"
     ]
    }
   ],
   "source": [
    "a.reshape(3,5) #bakın olmadı"
   ]
  },
  {
   "cell_type": "code",
   "execution_count": 12,
   "id": "045daade",
   "metadata": {},
   "outputs": [
    {
     "data": {
      "text/plain": [
       "array([[ 1,  2],\n",
       "       [ 3,  4],\n",
       "       [ 5,  6],\n",
       "       [ 7,  8],\n",
       "       [ 9, 10]])"
      ]
     },
     "execution_count": 12,
     "metadata": {},
     "output_type": "execute_result"
    }
   ],
   "source": [
    "a.reshape(5,2)"
   ]
  },
  {
   "cell_type": "code",
   "execution_count": 13,
   "id": "525db099",
   "metadata": {},
   "outputs": [],
   "source": [
    "a = a.reshape(2,5) #bunu yaparsak güncelleriz."
   ]
  },
  {
   "cell_type": "code",
   "execution_count": 14,
   "id": "624286b9",
   "metadata": {},
   "outputs": [],
   "source": [
    "a = np.arange(1,11)"
   ]
  },
  {
   "cell_type": "code",
   "execution_count": 15,
   "id": "e517d89f",
   "metadata": {},
   "outputs": [
    {
     "data": {
      "text/plain": [
       "array([ 1,  2,  3,  4,  5,  6,  7,  8,  9, 10])"
      ]
     },
     "execution_count": 15,
     "metadata": {},
     "output_type": "execute_result"
    }
   ],
   "source": [
    "a"
   ]
  },
  {
   "cell_type": "code",
   "execution_count": 17,
   "id": "0108c30c",
   "metadata": {},
   "outputs": [
    {
     "data": {
      "text/plain": [
       "2"
      ]
     },
     "execution_count": 17,
     "metadata": {},
     "output_type": "execute_result"
    }
   ],
   "source": [
    "a.reshape(2,5).ndim # 2 boyutlu oldu artık 2 ye 5 olduğundan."
   ]
  },
  {
   "cell_type": "markdown",
   "id": "861dd3fb",
   "metadata": {},
   "source": [
    "### -1 boyuta karar vermek"
   ]
  },
  {
   "cell_type": "code",
   "execution_count": 19,
   "id": "6b917779",
   "metadata": {},
   "outputs": [
    {
     "data": {
      "text/plain": [
       "array([[ 1,  2],\n",
       "       [ 3,  4],\n",
       "       [ 5,  6],\n",
       "       [ 7,  8],\n",
       "       [ 9, 10]])"
      ]
     },
     "execution_count": 19,
     "metadata": {},
     "output_type": "execute_result"
    }
   ],
   "source": [
    "a.reshape(-1,2) # aynı size de olmalı bir dimension belli ise öbürünü otomatik atar"
   ]
  },
  {
   "cell_type": "code",
   "execution_count": 20,
   "id": "3e36d362",
   "metadata": {},
   "outputs": [
    {
     "data": {
      "text/plain": [
       "array([[ 1,  2,  3,  4,  5],\n",
       "       [ 6,  7,  8,  9, 10]])"
      ]
     },
     "execution_count": 20,
     "metadata": {},
     "output_type": "execute_result"
    }
   ],
   "source": [
    "a.reshape(-1,5)"
   ]
  },
  {
   "cell_type": "code",
   "execution_count": 23,
   "id": "787c2466",
   "metadata": {},
   "outputs": [
    {
     "ename": "ValueError",
     "evalue": "cannot reshape array of size 10 into shape (6)",
     "output_type": "error",
     "traceback": [
      "\u001b[1;31m---------------------------------------------------------------------------\u001b[0m",
      "\u001b[1;31mValueError\u001b[0m                                Traceback (most recent call last)",
      "Input \u001b[1;32mIn [23]\u001b[0m, in \u001b[0;36m<cell line: 1>\u001b[1;34m()\u001b[0m\n\u001b[1;32m----> 1\u001b[0m \u001b[43ma\u001b[49m\u001b[38;5;241;43m.\u001b[39;49m\u001b[43mreshape\u001b[49m\u001b[43m(\u001b[49m\u001b[38;5;241;43m-\u001b[39;49m\u001b[38;5;241;43m1\u001b[39;49m\u001b[43m,\u001b[49m\u001b[38;5;241;43m6\u001b[39;49m\u001b[43m)\u001b[49m\n",
      "\u001b[1;31mValueError\u001b[0m: cannot reshape array of size 10 into shape (6)"
     ]
    }
   ],
   "source": [
    "a.reshape(-1,6) # toplam 10 eleman olmaz."
   ]
  },
  {
   "cell_type": "markdown",
   "id": "cafe3eb9",
   "metadata": {},
   "source": [
    "## Yeni boyut eklemek."
   ]
  },
  {
   "cell_type": "code",
   "execution_count": 24,
   "id": "c8d2e9c4",
   "metadata": {},
   "outputs": [],
   "source": [
    "a = np.arange(1,11)"
   ]
  },
  {
   "cell_type": "code",
   "execution_count": 25,
   "id": "cc51e542",
   "metadata": {},
   "outputs": [
    {
     "data": {
      "text/plain": [
       "array([ 1,  2,  3,  4,  5,  6,  7,  8,  9, 10])"
      ]
     },
     "execution_count": 25,
     "metadata": {},
     "output_type": "execute_result"
    }
   ],
   "source": [
    "a"
   ]
  },
  {
   "cell_type": "code",
   "execution_count": 27,
   "id": "9d09076e",
   "metadata": {},
   "outputs": [
    {
     "data": {
      "text/plain": [
       "array([[ 1,  2,  3,  4,  5,  6,  7,  8,  9, 10]])"
      ]
     },
     "execution_count": 27,
     "metadata": {},
     "output_type": "execute_result"
    }
   ],
   "source": [
    "a[np.newaxis, :] # 1 satır yaptı ama bir şey değişmedi çğnkü zaten öyleydi."
   ]
  },
  {
   "cell_type": "code",
   "execution_count": 29,
   "id": "174d2c29",
   "metadata": {},
   "outputs": [
    {
     "data": {
      "text/plain": [
       "array([[ 1],\n",
       "       [ 2],\n",
       "       [ 3],\n",
       "       [ 4],\n",
       "       [ 5],\n",
       "       [ 6],\n",
       "       [ 7],\n",
       "       [ 8],\n",
       "       [ 9],\n",
       "       [10]])"
      ]
     },
     "execution_count": 29,
     "metadata": {},
     "output_type": "execute_result"
    }
   ],
   "source": [
    "a[:,np.newaxis] #bu da ters olanı."
   ]
  },
  {
   "cell_type": "code",
   "execution_count": 30,
   "id": "1acb823f",
   "metadata": {},
   "outputs": [
    {
     "data": {
      "text/plain": [
       "(10, 1)"
      ]
     },
     "execution_count": 30,
     "metadata": {},
     "output_type": "execute_result"
    }
   ],
   "source": [
    "a[:,np.newaxis].shape"
   ]
  },
  {
   "cell_type": "code",
   "execution_count": 31,
   "id": "75aaac05",
   "metadata": {},
   "outputs": [],
   "source": [
    "# veya np.newaxis yazmaktansa none yazabiliriz."
   ]
  },
  {
   "cell_type": "code",
   "execution_count": 33,
   "id": "7dbcfca2",
   "metadata": {},
   "outputs": [
    {
     "data": {
      "text/plain": [
       "array([[ 1],\n",
       "       [ 2],\n",
       "       [ 3],\n",
       "       [ 4],\n",
       "       [ 5],\n",
       "       [ 6],\n",
       "       [ 7],\n",
       "       [ 8],\n",
       "       [ 9],\n",
       "       [10]])"
      ]
     },
     "execution_count": 33,
     "metadata": {},
     "output_type": "execute_result"
    }
   ],
   "source": [
    "a[:,None]"
   ]
  },
  {
   "cell_type": "code",
   "execution_count": null,
   "id": "9e1a5045",
   "metadata": {},
   "outputs": [],
   "source": []
  }
 ],
 "metadata": {
  "kernelspec": {
   "display_name": "Python 3 (ipykernel)",
   "language": "python",
   "name": "python3"
  },
  "language_info": {
   "codemirror_mode": {
    "name": "ipython",
    "version": 3
   },
   "file_extension": ".py",
   "mimetype": "text/x-python",
   "name": "python",
   "nbconvert_exporter": "python",
   "pygments_lexer": "ipython3",
   "version": "3.9.12"
  }
 },
 "nbformat": 4,
 "nbformat_minor": 5
}
