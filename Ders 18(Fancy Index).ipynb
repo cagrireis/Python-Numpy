{
 "cells": [
  {
   "cell_type": "code",
   "execution_count": 1,
   "id": "346dabc3",
   "metadata": {},
   "outputs": [],
   "source": [
    "import numpy as np"
   ]
  },
  {
   "cell_type": "markdown",
   "id": "dee283e4",
   "metadata": {},
   "source": [
    "## Fncy Indexing"
   ]
  },
  {
   "cell_type": "code",
   "execution_count": 2,
   "id": "012fc2ee",
   "metadata": {},
   "outputs": [],
   "source": [
    "# Şimdiye kadar hep belirli elemanları, belirli kesitlerdeki elemanları, veya belirli sayıda elemanları atlaya atlaya elemanları almayı gördük."
   ]
  },
  {
   "cell_type": "code",
   "execution_count": 3,
   "id": "aa57eec2",
   "metadata": {},
   "outputs": [],
   "source": [
    "# Fancy Indexing ile birkaç tane belirli indexteki elemanı bana döndür diyebilecek olmalıyız."
   ]
  },
  {
   "cell_type": "code",
   "execution_count": 4,
   "id": "9dc556b0",
   "metadata": {},
   "outputs": [],
   "source": [
    "x = np.arange(1,15)"
   ]
  },
  {
   "cell_type": "code",
   "execution_count": 5,
   "id": "398bc0e6",
   "metadata": {},
   "outputs": [
    {
     "data": {
      "text/plain": [
       "array([ 1,  2,  3,  4,  5,  6,  7,  8,  9, 10, 11, 12, 13, 14])"
      ]
     },
     "execution_count": 5,
     "metadata": {},
     "output_type": "execute_result"
    }
   ],
   "source": [
    "x"
   ]
  },
  {
   "cell_type": "code",
   "execution_count": 6,
   "id": "33feba1d",
   "metadata": {},
   "outputs": [],
   "source": [
    "#index alma"
   ]
  },
  {
   "cell_type": "code",
   "execution_count": 10,
   "id": "34f2f42c",
   "metadata": {},
   "outputs": [],
   "source": [
    "idxs = [4, 5, 7, 11] #bu normal bir liste"
   ]
  },
  {
   "cell_type": "code",
   "execution_count": 11,
   "id": "ebc47f71",
   "metadata": {},
   "outputs": [
    {
     "data": {
      "text/plain": [
       "array([ 5,  6,  8, 12])"
      ]
     },
     "execution_count": 11,
     "metadata": {},
     "output_type": "execute_result"
    }
   ],
   "source": [
    "x[idxs] #bu indexlerdeki elemanları döçndürdü."
   ]
  },
  {
   "cell_type": "code",
   "execution_count": 12,
   "id": "496a7292",
   "metadata": {},
   "outputs": [],
   "source": [
    "#arrayı yazdık ve indexlerin bulunduğu listeyi verdik."
   ]
  },
  {
   "cell_type": "code",
   "execution_count": 14,
   "id": "d9175040",
   "metadata": {},
   "outputs": [],
   "source": [
    "a = np.arange(12).reshape([3,4])"
   ]
  },
  {
   "cell_type": "code",
   "execution_count": 15,
   "id": "83d00acb",
   "metadata": {},
   "outputs": [
    {
     "data": {
      "text/plain": [
       "array([[ 0,  1,  2,  3],\n",
       "       [ 4,  5,  6,  7],\n",
       "       [ 8,  9, 10, 11]])"
      ]
     },
     "execution_count": 15,
     "metadata": {},
     "output_type": "execute_result"
    }
   ],
   "source": [
    "a"
   ]
  },
  {
   "cell_type": "code",
   "execution_count": 17,
   "id": "d562f8a1",
   "metadata": {},
   "outputs": [
    {
     "data": {
      "text/plain": [
       "array([1, 5])"
      ]
     },
     "execution_count": 17,
     "metadata": {},
     "output_type": "execute_result"
    }
   ],
   "source": [
    "a[0:2,1] # 0. SATIRDAN 2. SATIRA KADAR VE 1. KOLON"
   ]
  },
  {
   "cell_type": "code",
   "execution_count": 23,
   "id": "40baf52a",
   "metadata": {},
   "outputs": [
    {
     "data": {
      "text/plain": [
       "(2,)"
      ]
     },
     "execution_count": 23,
     "metadata": {},
     "output_type": "execute_result"
    }
   ],
   "source": [
    "a[0:2,1].shape # burada tekli olduğundan row column mantığı yok."
   ]
  },
  {
   "cell_type": "code",
   "execution_count": 24,
   "id": "9b782e13",
   "metadata": {},
   "outputs": [
    {
     "data": {
      "text/plain": [
       "array([[1, 2],\n",
       "       [5, 6]])"
      ]
     },
     "execution_count": 24,
     "metadata": {},
     "output_type": "execute_result"
    }
   ],
   "source": [
    "a[0:2,1:3]"
   ]
  },
  {
   "cell_type": "code",
   "execution_count": 25,
   "id": "42751500",
   "metadata": {},
   "outputs": [
    {
     "data": {
      "text/plain": [
       "(2, 2)"
      ]
     },
     "execution_count": 25,
     "metadata": {},
     "output_type": "execute_result"
    }
   ],
   "source": [
    "a[0:2,1:3].shape"
   ]
  },
  {
   "cell_type": "code",
   "execution_count": 26,
   "id": "e0f246f7",
   "metadata": {},
   "outputs": [
    {
     "data": {
      "text/plain": [
       "array([[ 0,  1,  2,  3],\n",
       "       [ 4,  5,  6,  7],\n",
       "       [ 8,  9, 10, 11]])"
      ]
     },
     "execution_count": 26,
     "metadata": {},
     "output_type": "execute_result"
    }
   ],
   "source": [
    "a"
   ]
  },
  {
   "cell_type": "code",
   "execution_count": 28,
   "id": "f487f22f",
   "metadata": {},
   "outputs": [
    {
     "data": {
      "text/plain": [
       "array([1, 3])"
      ]
     },
     "execution_count": 28,
     "metadata": {},
     "output_type": "execute_result"
    }
   ],
   "source": [
    "a[0,[1,3]] #bu fancy indexing. Burada olan şey 0. satırı al ve 1. ve 3. sütunu al der."
   ]
  },
  {
   "cell_type": "code",
   "execution_count": 32,
   "id": "db820169",
   "metadata": {},
   "outputs": [
    {
     "data": {
      "text/plain": [
       "array([[ 1,  3],\n",
       "       [ 6,  8],\n",
       "       [11, 13],\n",
       "       [16, 18]])"
      ]
     },
     "execution_count": 32,
     "metadata": {},
     "output_type": "execute_result"
    }
   ],
   "source": [
    "a[0:,[1,3]] #bunun farkı  : konulmasıdır. yani bütün sütunlareı tara diuorum bern ona."
   ]
  },
  {
   "cell_type": "code",
   "execution_count": 33,
   "id": "0eb40e9d",
   "metadata": {},
   "outputs": [],
   "source": [
    "a = np.arange(20).reshape([4,5])"
   ]
  },
  {
   "cell_type": "code",
   "execution_count": 34,
   "id": "ee21f71e",
   "metadata": {},
   "outputs": [
    {
     "data": {
      "text/plain": [
       "array([[ 0,  1,  2,  3,  4],\n",
       "       [ 5,  6,  7,  8,  9],\n",
       "       [10, 11, 12, 13, 14],\n",
       "       [15, 16, 17, 18, 19]])"
      ]
     },
     "execution_count": 34,
     "metadata": {},
     "output_type": "execute_result"
    }
   ],
   "source": [
    "a"
   ]
  },
  {
   "cell_type": "code",
   "execution_count": 35,
   "id": "e39fdd51",
   "metadata": {},
   "outputs": [],
   "source": [
    "idx1 = [1,3,2]\n",
    "idx2 = [3,0,2]"
   ]
  },
  {
   "cell_type": "code",
   "execution_count": 38,
   "id": "e102912d",
   "metadata": {},
   "outputs": [
    {
     "data": {
      "text/plain": [
       "array([ 8, 15, 12])"
      ]
     },
     "execution_count": 38,
     "metadata": {},
     "output_type": "execute_result"
    }
   ],
   "source": [
    "a[idx1,idx2] #buradaki mantık 1. 3. 2. row ile 3. 0. ve 2. columnu kesiştir ver"
   ]
  },
  {
   "cell_type": "code",
   "execution_count": 39,
   "id": "a2acbf7b",
   "metadata": {},
   "outputs": [
    {
     "data": {
      "text/plain": [
       "(3,)"
      ]
     },
     "execution_count": 39,
     "metadata": {},
     "output_type": "execute_result"
    }
   ],
   "source": [
    "a[idx1,idx2].shape"
   ]
  },
  {
   "cell_type": "code",
   "execution_count": 41,
   "id": "57a7b29f",
   "metadata": {},
   "outputs": [
    {
     "ename": "IndexError",
     "evalue": "index 3 is out of bounds for axis 0 with size 3",
     "output_type": "error",
     "traceback": [
      "\u001b[1;31m---------------------------------------------------------------------------\u001b[0m",
      "\u001b[1;31mIndexError\u001b[0m                                Traceback (most recent call last)",
      "Input \u001b[1;32mIn [41]\u001b[0m, in \u001b[0;36m<cell line: 1>\u001b[1;34m()\u001b[0m\n\u001b[1;32m----> 1\u001b[0m \u001b[43ma\u001b[49m\u001b[43m[\u001b[49m\u001b[43midx1\u001b[49m\u001b[43m]\u001b[49m\u001b[43m[\u001b[49m\u001b[43midx2\u001b[49m\u001b[43m]\u001b[49m\n",
      "\u001b[1;31mIndexError\u001b[0m: index 3 is out of bounds for axis 0 with size 3"
     ]
    }
   ],
   "source": [
    "a[idx1][idx2]  #bu olmaz çünkü neyin ne olduğunu bilmiyotruz."
   ]
  },
  {
   "cell_type": "code",
   "execution_count": 42,
   "id": "c17c9f05",
   "metadata": {},
   "outputs": [
    {
     "data": {
      "text/plain": [
       "array([ 1,  2,  3,  4,  5,  6,  7,  8,  9, 10, 11, 12, 13, 14])"
      ]
     },
     "execution_count": 42,
     "metadata": {},
     "output_type": "execute_result"
    }
   ],
   "source": [
    "x"
   ]
  },
  {
   "cell_type": "code",
   "execution_count": 44,
   "id": "bd841083",
   "metadata": {},
   "outputs": [],
   "source": [
    "x[[2,6,9]] = 20"
   ]
  },
  {
   "cell_type": "code",
   "execution_count": 45,
   "id": "f86e4902",
   "metadata": {},
   "outputs": [
    {
     "data": {
      "text/plain": [
       "array([ 1,  2, 20,  4,  5,  6, 20,  8,  9, 20, 11, 12, 13, 14])"
      ]
     },
     "execution_count": 45,
     "metadata": {},
     "output_type": "execute_result"
    }
   ],
   "source": [
    "x"
   ]
  },
  {
   "cell_type": "code",
   "execution_count": 46,
   "id": "813f82ab",
   "metadata": {},
   "outputs": [],
   "source": [
    "x = np.arange(9)"
   ]
  },
  {
   "cell_type": "code",
   "execution_count": 47,
   "id": "863d929a",
   "metadata": {},
   "outputs": [
    {
     "data": {
      "text/plain": [
       "array([0, 1, 2, 3, 4, 5, 6, 7, 8])"
      ]
     },
     "execution_count": 47,
     "metadata": {},
     "output_type": "execute_result"
    }
   ],
   "source": [
    "x"
   ]
  },
  {
   "cell_type": "code",
   "execution_count": 52,
   "id": "d864b5eb",
   "metadata": {},
   "outputs": [],
   "source": [
    "x[[1,2,3]] = [100, 200, 300] "
   ]
  },
  {
   "cell_type": "code",
   "execution_count": 53,
   "id": "bc3e67a8",
   "metadata": {},
   "outputs": [
    {
     "data": {
      "text/plain": [
       "array([  0, 100, 200, 300,   4,   5,   6,   7,   8])"
      ]
     },
     "execution_count": 53,
     "metadata": {},
     "output_type": "execute_result"
    }
   ],
   "source": [
    "x"
   ]
  },
  {
   "cell_type": "code",
   "execution_count": null,
   "id": "d87a709e",
   "metadata": {},
   "outputs": [],
   "source": []
  }
 ],
 "metadata": {
  "kernelspec": {
   "display_name": "Python 3 (ipykernel)",
   "language": "python",
   "name": "python3"
  },
  "language_info": {
   "codemirror_mode": {
    "name": "ipython",
    "version": 3
   },
   "file_extension": ".py",
   "mimetype": "text/x-python",
   "name": "python",
   "nbconvert_exporter": "python",
   "pygments_lexer": "ipython3",
   "version": "3.9.12"
  }
 },
 "nbformat": 4,
 "nbformat_minor": 5
}
