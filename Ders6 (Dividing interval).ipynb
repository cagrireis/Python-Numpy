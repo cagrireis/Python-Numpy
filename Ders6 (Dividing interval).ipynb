{
 "cells": [
  {
   "cell_type": "code",
   "execution_count": 1,
   "id": "468b1414",
   "metadata": {},
   "outputs": [],
   "source": [
    "import numpy as np"
   ]
  },
  {
   "cell_type": "markdown",
   "id": "69a7065c",
   "metadata": {},
   "source": [
    "# ARALIĞI EŞİT UZAKLIKTAKİ NOKTALARA BÖLMEK"
   ]
  },
  {
   "cell_type": "code",
   "execution_count": 2,
   "id": "49e5bb10",
   "metadata": {},
   "outputs": [],
   "source": [
    "# Bir aralığın başlangıcını ve bitişini verip onu eşit şekilde bölmeyi göreceğiz."
   ]
  },
  {
   "cell_type": "code",
   "execution_count": 3,
   "id": "024504a2",
   "metadata": {},
   "outputs": [],
   "source": [
    "# Default olarak 50 nokta döndürür."
   ]
  },
  {
   "cell_type": "code",
   "execution_count": 5,
   "id": "9f9a0614",
   "metadata": {},
   "outputs": [
    {
     "data": {
      "text/plain": [
       "array([1.        , 1.02040816, 1.04081633, 1.06122449, 1.08163265,\n",
       "       1.10204082, 1.12244898, 1.14285714, 1.16326531, 1.18367347,\n",
       "       1.20408163, 1.2244898 , 1.24489796, 1.26530612, 1.28571429,\n",
       "       1.30612245, 1.32653061, 1.34693878, 1.36734694, 1.3877551 ,\n",
       "       1.40816327, 1.42857143, 1.44897959, 1.46938776, 1.48979592,\n",
       "       1.51020408, 1.53061224, 1.55102041, 1.57142857, 1.59183673,\n",
       "       1.6122449 , 1.63265306, 1.65306122, 1.67346939, 1.69387755,\n",
       "       1.71428571, 1.73469388, 1.75510204, 1.7755102 , 1.79591837,\n",
       "       1.81632653, 1.83673469, 1.85714286, 1.87755102, 1.89795918,\n",
       "       1.91836735, 1.93877551, 1.95918367, 1.97959184, 2.        ])"
      ]
     },
     "execution_count": 5,
     "metadata": {},
     "output_type": "execute_result"
    }
   ],
   "source": [
    "np.linspace(1,2) # başlangıç ve btitş de dahildir."
   ]
  },
  {
   "cell_type": "markdown",
   "id": "585e779d",
   "metadata": {},
   "source": [
    "## Kaç parçaya böelceğimizi bulmak"
   ]
  },
  {
   "cell_type": "code",
   "execution_count": 8,
   "id": "834a9e88",
   "metadata": {},
   "outputs": [
    {
     "data": {
      "text/plain": [
       "array([1. , 1.5, 2. ])"
      ]
     },
     "execution_count": 8,
     "metadata": {},
     "output_type": "execute_result"
    }
   ],
   "source": [
    "np.linspace(1,2,num = 3) # 1 ve 2 de dahil 3 nokta üret dedik\n"
   ]
  },
  {
   "cell_type": "code",
   "execution_count": 10,
   "id": "68513ff9",
   "metadata": {},
   "outputs": [
    {
     "data": {
      "text/plain": [
       "array([1. , 1.5, 2. ])"
      ]
     },
     "execution_count": 10,
     "metadata": {},
     "output_type": "execute_result"
    }
   ],
   "source": [
    "np.linspace(1,2,3) # aynı işi yapıyor."
   ]
  },
  {
   "cell_type": "code",
   "execution_count": 14,
   "id": "0a6ec102",
   "metadata": {},
   "outputs": [
    {
     "data": {
      "text/plain": [
       "array([1.        , 1.33333333, 1.66666667])"
      ]
     },
     "execution_count": 14,
     "metadata": {},
     "output_type": "execute_result"
    }
   ],
   "source": [
    "np.linspace(1,2,3,endpoint = False) #endpoint bitiş noktasını 3 tane böldüğümüz sayıya dahil olup olmadığını sorar."
   ]
  },
  {
   "cell_type": "code",
   "execution_count": 16,
   "id": "50f8f5a7",
   "metadata": {},
   "outputs": [
    {
     "data": {
      "text/plain": [
       "array([1.5, 3.1, 4.7])"
      ]
     },
     "execution_count": 16,
     "metadata": {},
     "output_type": "execute_result"
    }
   ],
   "source": [
    "np.linspace(1.5, 4.7, 3) # floatlar da olur."
   ]
  },
  {
   "cell_type": "code",
   "execution_count": null,
   "id": "1e7c9cb7",
   "metadata": {},
   "outputs": [],
   "source": []
  }
 ],
 "metadata": {
  "kernelspec": {
   "display_name": "Python 3 (ipykernel)",
   "language": "python",
   "name": "python3"
  },
  "language_info": {
   "codemirror_mode": {
    "name": "ipython",
    "version": 3
   },
   "file_extension": ".py",
   "mimetype": "text/x-python",
   "name": "python",
   "nbconvert_exporter": "python",
   "pygments_lexer": "ipython3",
   "version": "3.9.12"
  }
 },
 "nbformat": 4,
 "nbformat_minor": 5
}
