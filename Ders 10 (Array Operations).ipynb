{
 "cells": [
  {
   "cell_type": "code",
   "execution_count": 1,
   "id": "e3adec84",
   "metadata": {},
   "outputs": [],
   "source": [
    "import numpy as np"
   ]
  },
  {
   "cell_type": "markdown",
   "id": "e559ff02",
   "metadata": {},
   "source": [
    "# ARRAY İŞLEMLERİ"
   ]
  },
  {
   "cell_type": "code",
   "execution_count": 2,
   "id": "18bdc895",
   "metadata": {},
   "outputs": [],
   "source": [
    "# * OPERATÖRÜ İKİ LİSTE ARASINDA İŞLEVSİZDİR HAT ADÖNDÜRÜR."
   ]
  },
  {
   "cell_type": "code",
   "execution_count": 3,
   "id": "4a1adafb",
   "metadata": {},
   "outputs": [],
   "source": [
    "a = [1, 2, 3]\n",
    "b = [2, 4, 8]"
   ]
  },
  {
   "cell_type": "code",
   "execution_count": 4,
   "id": "298d6a47",
   "metadata": {},
   "outputs": [],
   "source": [
    "# bir skaler ile çarparsak ise concetenation yapar"
   ]
  },
  {
   "cell_type": "code",
   "execution_count": 5,
   "id": "5a7f731c",
   "metadata": {},
   "outputs": [
    {
     "data": {
      "text/plain": [
       "[1, 2, 3, 1, 2, 3, 1, 2, 3]"
      ]
     },
     "execution_count": 5,
     "metadata": {},
     "output_type": "execute_result"
    }
   ],
   "source": [
    "a * 3"
   ]
  },
  {
   "cell_type": "code",
   "execution_count": 6,
   "id": "cbc8876e",
   "metadata": {},
   "outputs": [],
   "source": [
    "# + operatörü de aynısını yapıyor."
   ]
  },
  {
   "cell_type": "code",
   "execution_count": 7,
   "id": "6376c392",
   "metadata": {},
   "outputs": [],
   "source": [
    "# numpy ise eleman bazlı yapar."
   ]
  },
  {
   "cell_type": "code",
   "execution_count": 8,
   "id": "47452c92",
   "metadata": {},
   "outputs": [],
   "source": [
    "a = np.array([1, 2, 3])\n",
    "b = np.array([2, 4, 8])"
   ]
  },
  {
   "cell_type": "code",
   "execution_count": 10,
   "id": "42cf38ec",
   "metadata": {},
   "outputs": [
    {
     "data": {
      "text/plain": [
       "array([ 2,  8, 24])"
      ]
     },
     "execution_count": 10,
     "metadata": {},
     "output_type": "execute_result"
    }
   ],
   "source": [
    "a * b # element wise yaparç"
   ]
  },
  {
   "cell_type": "code",
   "execution_count": 11,
   "id": "e4f1a529",
   "metadata": {},
   "outputs": [
    {
     "data": {
      "text/plain": [
       "array([ 2,  8, 24])"
      ]
     },
     "execution_count": 11,
     "metadata": {},
     "output_type": "execute_result"
    }
   ],
   "source": [
    "a * b"
   ]
  },
  {
   "cell_type": "code",
   "execution_count": 12,
   "id": "7049ef19",
   "metadata": {},
   "outputs": [
    {
     "data": {
      "text/plain": [
       "array([2, 4, 6])"
      ]
     },
     "execution_count": 12,
     "metadata": {},
     "output_type": "execute_result"
    }
   ],
   "source": [
    "a * 2"
   ]
  },
  {
   "cell_type": "code",
   "execution_count": 13,
   "id": "41c218f9",
   "metadata": {},
   "outputs": [
    {
     "data": {
      "text/plain": [
       "array([ 4,  8, 16])"
      ]
     },
     "execution_count": 13,
     "metadata": {},
     "output_type": "execute_result"
    }
   ],
   "source": [
    "b * 2"
   ]
  },
  {
   "cell_type": "code",
   "execution_count": 14,
   "id": "4fc9698f",
   "metadata": {},
   "outputs": [],
   "source": [
    "#element wise olduğundan eleman sayılaerının eşit olması lazım."
   ]
  },
  {
   "cell_type": "code",
   "execution_count": 16,
   "id": "2aea47e4",
   "metadata": {},
   "outputs": [
    {
     "data": {
      "text/plain": [
       "array([3, 4, 5])"
      ]
     },
     "execution_count": 16,
     "metadata": {},
     "output_type": "execute_result"
    }
   ],
   "source": [
    "a + 2 # tüm elemanlarını 2 ile ytoplar"
   ]
  },
  {
   "cell_type": "code",
   "execution_count": 17,
   "id": "c5546ff2",
   "metadata": {},
   "outputs": [
    {
     "data": {
      "text/plain": [
       "array([ 3,  6, 11])"
      ]
     },
     "execution_count": 17,
     "metadata": {},
     "output_type": "execute_result"
    }
   ],
   "source": [
    "a + b"
   ]
  },
  {
   "cell_type": "code",
   "execution_count": 18,
   "id": "330ea1d5",
   "metadata": {},
   "outputs": [],
   "source": [
    "# bunlar değer güncellemez."
   ]
  },
  {
   "cell_type": "code",
   "execution_count": 19,
   "id": "b261b0f8",
   "metadata": {},
   "outputs": [],
   "source": [
    "# değer güncellemek için: x = x * 3"
   ]
  },
  {
   "cell_type": "code",
   "execution_count": 22,
   "id": "67a9b577",
   "metadata": {},
   "outputs": [
    {
     "data": {
      "text/plain": [
       "array([3, 6, 9])"
      ]
     },
     "execution_count": 22,
     "metadata": {},
     "output_type": "execute_result"
    }
   ],
   "source": [
    "a = a * 3\n",
    "a"
   ]
  },
  {
   "cell_type": "code",
   "execution_count": null,
   "id": "b07d88a8",
   "metadata": {},
   "outputs": [],
   "source": []
  }
 ],
 "metadata": {
  "kernelspec": {
   "display_name": "Python 3 (ipykernel)",
   "language": "python",
   "name": "python3"
  },
  "language_info": {
   "codemirror_mode": {
    "name": "ipython",
    "version": 3
   },
   "file_extension": ".py",
   "mimetype": "text/x-python",
   "name": "python",
   "nbconvert_exporter": "python",
   "pygments_lexer": "ipython3",
   "version": "3.9.12"
  }
 },
 "nbformat": 4,
 "nbformat_minor": 5
}
