{
 "cells": [
  {
   "cell_type": "code",
   "execution_count": 4,
   "id": "65029dbd",
   "metadata": {},
   "outputs": [],
   "source": [
    "import numpy as np"
   ]
  },
  {
   "cell_type": "markdown",
   "id": "f8336121",
   "metadata": {},
   "source": [
    "# RANDOM INTEGERLAR İLE ARRAY OLUŞTURMAK"
   ]
  },
  {
   "cell_type": "code",
   "execution_count": 5,
   "id": "de8d5034",
   "metadata": {},
   "outputs": [],
   "source": [
    "# [LOW, HIGH)"
   ]
  },
  {
   "cell_type": "code",
   "execution_count": 6,
   "id": "08d8ada0",
   "metadata": {},
   "outputs": [
    {
     "data": {
      "text/plain": [
       "array([[4, 7, 2, 6],\n",
       "       [6, 6, 3, 8],\n",
       "       [6, 7, 3, 4]])"
      ]
     },
     "execution_count": 6,
     "metadata": {},
     "output_type": "execute_result"
    }
   ],
   "source": [
    "np.random.randint(1,10,(3,4))"
   ]
  },
  {
   "cell_type": "code",
   "execution_count": 7,
   "id": "5070325b",
   "metadata": {},
   "outputs": [
    {
     "data": {
      "text/plain": [
       "array([[[5, 7, 3, 5, 2],\n",
       "        [8, 6, 7, 9, 7],\n",
       "        [9, 9, 9, 5, 5],\n",
       "        [6, 5, 6, 3, 8],\n",
       "        [3, 8, 1, 3, 7]],\n",
       "\n",
       "       [[6, 8, 2, 5, 8],\n",
       "        [5, 3, 4, 8, 7],\n",
       "        [7, 7, 6, 2, 3],\n",
       "        [6, 7, 2, 3, 6],\n",
       "        [7, 6, 6, 9, 8]],\n",
       "\n",
       "       [[7, 3, 1, 4, 5],\n",
       "        [8, 7, 1, 8, 7],\n",
       "        [7, 6, 4, 9, 8],\n",
       "        [8, 6, 4, 2, 3],\n",
       "        [7, 2, 5, 9, 1]]])"
      ]
     },
     "execution_count": 7,
     "metadata": {},
     "output_type": "execute_result"
    }
   ],
   "source": [
    "np.random.randint(1, 10, (3,5,5))"
   ]
  },
  {
   "cell_type": "code",
   "execution_count": 8,
   "id": "d02142a4",
   "metadata": {},
   "outputs": [
    {
     "data": {
      "text/plain": [
       "1"
      ]
     },
     "execution_count": 8,
     "metadata": {},
     "output_type": "execute_result"
    }
   ],
   "source": [
    "np.random.randint(1,2)"
   ]
  },
  {
   "cell_type": "code",
   "execution_count": 12,
   "id": "f17dd654",
   "metadata": {},
   "outputs": [],
   "source": [
    "d = {}\n",
    "\n",
    "for _ in range(100):\n",
    "    val = np.random.randint(1,101)\n",
    "    \n",
    "    if val not in d:\n",
    "        d[val] = 1\n",
    "    else:\n",
    "        d[val] = d[val] + 1"
   ]
  },
  {
   "cell_type": "code",
   "execution_count": 13,
   "id": "13f693b4",
   "metadata": {},
   "outputs": [
    {
     "data": {
      "text/plain": [
       "{79: 3,\n",
       " 72: 3,\n",
       " 91: 1,\n",
       " 33: 1,\n",
       " 5: 2,\n",
       " 43: 4,\n",
       " 77: 1,\n",
       " 50: 1,\n",
       " 89: 1,\n",
       " 21: 1,\n",
       " 78: 4,\n",
       " 27: 2,\n",
       " 84: 2,\n",
       " 66: 2,\n",
       " 100: 1,\n",
       " 67: 4,\n",
       " 3: 2,\n",
       " 14: 1,\n",
       " 18: 2,\n",
       " 2: 4,\n",
       " 17: 1,\n",
       " 75: 1,\n",
       " 51: 2,\n",
       " 7: 1,\n",
       " 8: 1,\n",
       " 97: 1,\n",
       " 44: 1,\n",
       " 6: 3,\n",
       " 15: 2,\n",
       " 4: 1,\n",
       " 37: 1,\n",
       " 52: 1,\n",
       " 54: 2,\n",
       " 1: 1,\n",
       " 46: 1,\n",
       " 68: 1,\n",
       " 28: 2,\n",
       " 82: 1,\n",
       " 61: 2,\n",
       " 11: 3,\n",
       " 42: 1,\n",
       " 25: 2,\n",
       " 59: 1,\n",
       " 9: 1,\n",
       " 23: 3,\n",
       " 36: 1,\n",
       " 87: 1,\n",
       " 93: 2,\n",
       " 69: 1,\n",
       " 62: 1,\n",
       " 65: 1,\n",
       " 88: 1,\n",
       " 20: 2,\n",
       " 92: 2,\n",
       " 71: 1,\n",
       " 35: 1,\n",
       " 32: 1,\n",
       " 34: 1,\n",
       " 24: 1,\n",
       " 12: 1,\n",
       " 41: 1,\n",
       " 19: 1,\n",
       " 74: 1}"
      ]
     },
     "execution_count": 13,
     "metadata": {},
     "output_type": "execute_result"
    }
   ],
   "source": [
    "d"
   ]
  },
  {
   "cell_type": "code",
   "execution_count": null,
   "id": "1424bc60",
   "metadata": {},
   "outputs": [],
   "source": []
  }
 ],
 "metadata": {
  "kernelspec": {
   "display_name": "Python 3 (ipykernel)",
   "language": "python",
   "name": "python3"
  },
  "language_info": {
   "codemirror_mode": {
    "name": "ipython",
    "version": 3
   },
   "file_extension": ".py",
   "mimetype": "text/x-python",
   "name": "python",
   "nbconvert_exporter": "python",
   "pygments_lexer": "ipython3",
   "version": "3.9.12"
  }
 },
 "nbformat": 4,
 "nbformat_minor": 5
}
