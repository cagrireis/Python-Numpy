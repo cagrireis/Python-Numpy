{
 "cells": [
  {
   "cell_type": "code",
   "execution_count": 1,
   "id": "a0adb1a4",
   "metadata": {},
   "outputs": [],
   "source": [
    "import numpy as np"
   ]
  },
  {
   "cell_type": "markdown",
   "id": "2603190a",
   "metadata": {},
   "source": [
    "# NORMAL DISTRIBUTION'DAN ÇEKILMIŞ DEĞERLER ILE ARRAY OLUŞTUIRMAK"
   ]
  },
  {
   "cell_type": "code",
   "execution_count": 2,
   "id": "d803f0b9",
   "metadata": {},
   "outputs": [],
   "source": [
    "# (mean,std,array size)"
   ]
  },
  {
   "cell_type": "code",
   "execution_count": 5,
   "id": "05121d37",
   "metadata": {},
   "outputs": [
    {
     "data": {
      "text/plain": [
       "array([[ 1.22458071,  0.34264846,  1.05690597, -0.1504092 , -1.20677794],\n",
       "       [ 0.85528707, -0.09305821, -0.16473055, -0.97776952, -0.29219979],\n",
       "       [ 0.09284767,  0.69847264,  0.24234678,  0.40784274, -1.17392103],\n",
       "       [ 0.07224867,  0.51154007, -0.68319898, -0.98147207,  0.8451417 ]])"
      ]
     },
     "execution_count": 5,
     "metadata": {},
     "output_type": "execute_result"
    }
   ],
   "source": [
    "np.random.normal(0, 1, (4, 5)) #ortalama, standart sapma, ve en son tuple biçiminde büyüklüğünü yazmalıyız."
   ]
  },
  {
   "cell_type": "code",
   "execution_count": 6,
   "id": "654f0d01",
   "metadata": {},
   "outputs": [
    {
     "data": {
      "text/plain": [
       "array([[-132.99373905,   16.4850078 ,  -68.14013082,  192.26045784,\n",
       "         -97.40564498],\n",
       "       [ 177.75862253, -173.78470871,  -74.47775224,   67.08581467,\n",
       "        -313.13672185],\n",
       "       [ -14.91248323,  159.62607332,   29.64459748,   70.62663297,\n",
       "         -26.84406488],\n",
       "       [-151.2532044 ,  -94.88716866,  114.14226411,  -59.62485919,\n",
       "         -93.81825018]])"
      ]
     },
     "execution_count": 6,
     "metadata": {},
     "output_type": "execute_result"
    }
   ],
   "source": [
    "np.random.normal(0, 100, (4,5))"
   ]
  },
  {
   "cell_type": "code",
   "execution_count": 7,
   "id": "ea5692af",
   "metadata": {},
   "outputs": [
    {
     "data": {
      "text/plain": [
       "array([[  47.23451516,  133.63161245,   33.19014309,  108.15515385,\n",
       "         105.51690025],\n",
       "       [ 124.98880155, -148.89352212,  -55.68866355,   43.01414011,\n",
       "         -71.10102728],\n",
       "       [-102.31236269,   -1.37293262,   62.62576177, -159.13013071,\n",
       "        -166.35033754],\n",
       "       [ 162.35156985,  -30.3283948 ,   -7.19760835,  -13.98187297,\n",
       "         -77.41328108]])"
      ]
     },
     "execution_count": 7,
     "metadata": {},
     "output_type": "execute_result"
    }
   ],
   "source": [
    "np.random.normal(10, 100, (4,5))"
   ]
  },
  {
   "cell_type": "code",
   "execution_count": 8,
   "id": "d8a7d345",
   "metadata": {},
   "outputs": [
    {
     "data": {
      "text/plain": [
       "array([[10.02462431,  9.59058054, 11.74532167,  8.43487104, 10.86846339],\n",
       "       [10.00604289,  9.52654898,  9.96562111, 10.20055415,  9.92286673],\n",
       "       [ 9.42751837,  9.84390873,  9.52598086,  9.73012319, 10.43505949],\n",
       "       [ 9.53927059,  7.93741203,  9.74366836,  9.88286504,  9.90825788]])"
      ]
     },
     "execution_count": 8,
     "metadata": {},
     "output_type": "execute_result"
    }
   ],
   "source": [
    "np.random.normal(10, 1, (4,5))"
   ]
  },
  {
   "cell_type": "code",
   "execution_count": null,
   "id": "e02c640e",
   "metadata": {},
   "outputs": [],
   "source": []
  }
 ],
 "metadata": {
  "kernelspec": {
   "display_name": "Python 3 (ipykernel)",
   "language": "python",
   "name": "python3"
  },
  "language_info": {
   "codemirror_mode": {
    "name": "ipython",
    "version": 3
   },
   "file_extension": ".py",
   "mimetype": "text/x-python",
   "name": "python",
   "nbconvert_exporter": "python",
   "pygments_lexer": "ipython3",
   "version": "3.9.12"
  }
 },
 "nbformat": 4,
 "nbformat_minor": 5
}
